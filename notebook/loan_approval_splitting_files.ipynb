{
 "cells": [
  {
   "cell_type": "code",
   "execution_count": 1,
   "id": "c07db045",
   "metadata": {},
   "outputs": [],
   "source": [
    "import pandas as pd\n",
    "import os"
   ]
  },
  {
   "cell_type": "code",
   "execution_count": 2,
   "id": "8b766b7d-59de-4d8a-b181-5f5103e32e6a",
   "metadata": {},
   "outputs": [],
   "source": [
    "file_path = '/Users/macbookair/airflow/data/loan_approval_data.csv'  \n",
    "df_with_errors = pd.read_csv(file_path)\n"
   ]
  },
  {
   "cell_type": "code",
   "execution_count": 3,
   "id": "ddc9775c-99b8-43b0-b1dd-e384a35b03c2",
   "metadata": {},
   "outputs": [],
   "source": [
    "# Create the folder 'raw_data' in the specified directory if it doesn't exist\n",
    "output_folder = '/Users/macbookair/airflow/raw_data'\n",
    "if not os.path.exists(output_folder):\n",
    "    os.makedirs(output_folder)"
   ]
  },
  {
   "cell_type": "code",
   "execution_count": 4,
   "id": "c320b119-5cf0-45fe-a3e0-c7ee89ac81f5",
   "metadata": {},
   "outputs": [],
   "source": [
    "# Total number of rows in the dataset\n",
    "total_rows = df_with_errors.shape[0]\n"
   ]
  },
  {
   "cell_type": "code",
   "execution_count": 5,
   "id": "1df16adf-0045-46a2-a65b-e6230d9579b4",
   "metadata": {},
   "outputs": [],
   "source": [
    "# Total number of files to split into (10 files)\n",
    "num_files = 10"
   ]
  },
  {
   "cell_type": "code",
   "execution_count": 6,
   "id": "8e47f550-d291-4d42-8c39-08e317fb45a4",
   "metadata": {},
   "outputs": [],
   "source": [
    "# Calculate the base number of rows per file and any remaining rows\n",
    "rows_per_file = total_rows // num_files  # Each file should have 1000 rows\n",
    "extra_rows = total_rows % num_files  # This gives any extra rows that need to be distributed\n"
   ]
  },
  {
   "cell_type": "code",
   "execution_count": 7,
   "id": "8798c34a-0481-4bc8-803a-e6e8ed24c473",
   "metadata": {},
   "outputs": [
    {
     "name": "stdout",
     "output_type": "stream",
     "text": [
      "All 10 files saved in '/Users/macbookair/airflow/raw_data' folder, with a total of 10000 rows.\n"
     ]
    }
   ],
   "source": [
    "# Start splitting the dataset\n",
    "start_row = 0\n",
    "for i in range(num_files):\n",
    "    if i < extra_rows:\n",
    "        # Distribute one extra row to the first 'extra_rows' files if there are any\n",
    "        end_row = start_row + rows_per_file + 1\n",
    "    else:\n",
    "        end_row = start_row + rows_per_file\n",
    "    \n",
    "    # Extract the subset of the dataset for this file\n",
    "    split_df = df_with_errors.iloc[start_row:end_row]\n",
    "    \n",
    "    # Save the split file with leading zeros in the name (split_file_001.csv)\n",
    "    split_file_path = os.path.join(output_folder, f'split_file_{i+1:03}.csv')\n",
    "    split_df.to_csv(split_file_path, index=False)\n",
    "    \n",
    "    # Move the starting row forward for the next split\n",
    "    start_row = end_row\n",
    "\n",
    "print(f\"All {num_files} files saved in '{output_folder}' folder, with a total of {total_rows} rows.\")\n"
   ]
  },
  {
   "cell_type": "code",
   "execution_count": null,
   "id": "b6f87641-ca91-4267-bc7f-f20a4705f1d8",
   "metadata": {},
   "outputs": [],
   "source": []
  },
  {
   "cell_type": "code",
   "execution_count": null,
   "id": "fb1e4518-83a0-4e02-a43c-3a5bc01fb965",
   "metadata": {},
   "outputs": [],
   "source": []
  }
 ],
 "metadata": {
  "kernelspec": {
   "display_name": "Python 3 (ipykernel)",
   "language": "python",
   "name": "python3"
  },
  "language_info": {
   "codemirror_mode": {
    "name": "ipython",
    "version": 3
   },
   "file_extension": ".py",
   "mimetype": "text/x-python",
   "name": "python",
   "nbconvert_exporter": "python",
   "pygments_lexer": "ipython3",
   "version": "3.9.19"
  }
 },
 "nbformat": 4,
 "nbformat_minor": 5
}
